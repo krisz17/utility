{
 "cells": [
  {
   "attachments": {},
   "cell_type": "markdown",
   "id": "7f2f8468-c96b-45e9-932f-fc1cd25365af",
   "metadata": {},
   "source": [
    "### Dekorator do wyznaczania czasu trwania wywołania funkcji  \n",
    "https://towardsdatascience.com/12-python-decorators-to-take-your-code-to-the-next-level-a910a1ab3e99\n",
    "https://towardsdatascience.com/10-fabulous-python-decorators-ab674a732871"
   ]
  },
  {
   "cell_type": "code",
   "execution_count": null,
   "id": "4647b1b1-a7dc-4d68-95a8-7d8ad8ebf9a6",
   "metadata": {},
   "outputs": [],
   "source": [
    "# funkcja do \n",
    "\n",
    "from functools import wraps\n",
    "import time \n",
    "\n",
    "def timefn(fn):\n",
    "    @wraps(fn)\n",
    "    def measure_time(*args, **kwargs):\n",
    "        t1 = time.time()\n",
    "        result = fn(*args, **kwargs)\n",
    "        t2 = time.time()\n",
    "        print (\"@timefn: \" + fn.__name__ + \" took \" + str(t2 - t1) + \" seconds\")\n",
    "        return result\n",
    "    return measure_time"
   ]
  },
  {
   "cell_type": "code",
   "execution_count": 21,
   "id": "42457b41-7d8d-41da-8b07-8d908789c877",
   "metadata": {},
   "outputs": [
    {
     "name": "stdout",
     "output_type": "stream",
     "text": [
      "@timefn:losowa took 0.4927222728729248 seconds\n"
     ]
    }
   ],
   "source": [
    "import random\n",
    "\n",
    "if __name__ == \"__main__\":\n",
    "    @timefn\n",
    "    def losowa(x):\n",
    "        for _ in range(x):\n",
    "            a = random.random()\n",
    "        return \n",
    "\n",
    "    losowa(10000000)"
   ]
  },
  {
   "cell_type": "markdown",
   "id": "9d8f377f-0096-4307-8da9-56853b6bf58f",
   "metadata": {},
   "source": [
    "### Dekorator dodający do funkci opcję Cashe, jeżeli nastąpi wywołanie dla tych samych argumentów to zamiast wykonać pełen kod zczytuje wartość z casha \n",
    "Dekorator może oczywiście byc podrasowany i pamięć będzie składana w pliku trwałym"
   ]
  },
  {
   "cell_type": "code",
   "execution_count": 23,
   "id": "e2b66561-93de-4266-81bd-0575e76de8e2",
   "metadata": {},
   "outputs": [],
   "source": [
    "import functools\n",
    "def memoize(func):\n",
    "    \"\"\"\n",
    "    Cache the results of the function so it doesn't need to be called\n",
    "    again, if the same arguments are provided a second time.\n",
    "    \"\"\"\n",
    "    cache = {}\n",
    "    @functools.wraps(func)\n",
    "    def wrapper(*args):\n",
    "        if args in cache:\n",
    "            return cache[args]\n",
    "        # This line is for demonstration only.\n",
    "        # Remove it before using it for real.\n",
    "        print('Calling %s()' % func.__name__)\n",
    "        result = func(*args)\n",
    "        cache[args] = result\n",
    "        return result\n",
    "    return wrapper"
   ]
  },
  {
   "cell_type": "code",
   "execution_count": 26,
   "id": "78e26893-b6f1-49a6-90d8-114829cdfe2e",
   "metadata": {},
   "outputs": [
    {
     "name": "stdout",
     "output_type": "stream",
     "text": [
      "Calling silnia()\n",
      "Calling silnia()\n",
      "Calling silnia()\n",
      "Calling silnia()\n",
      "Calling silnia()\n",
      "120\n",
      "a za drugim razem mamy już tylko:\n",
      "Calling silnia()\n",
      "720\n"
     ]
    }
   ],
   "source": [
    "if __name__ == \"__main__\":\n",
    "    @memoize\n",
    "    def silnia(n):\n",
    "        if n==1:\n",
    "            return 1\n",
    "        return n*silnia(n-1)\n",
    "    \n",
    "    print(silnia(5))\n",
    "    print(\"a za drugim razem mamy już tylko:\")\n",
    "    print(silnia(6))\n",
    "    "
   ]
  },
  {
   "cell_type": "markdown",
   "id": "77575ad5-7942-437a-95c8-9196bf2eb46d",
   "metadata": {},
   "source": [
    "### Sprawdzanie poprawności typów argumentów funkcji \n",
    "Jeżeli zależy nam aby argumenty jak i wartość zwracana przez funkcję był danego typu możemy zastosować następujący dekorator "
   ]
  },
  {
   "cell_type": "code",
   "execution_count": 42,
   "id": "699d19a1-29d9-4c05-adfa-4aec0afa35e3",
   "metadata": {},
   "outputs": [],
   "source": [
    "import inspect\n",
    "import functools\n",
    "from itertools import chain\n",
    "\n",
    "def typesafe(func):\n",
    "    \"\"\"\n",
    "    Verify that the function is called with the right argument types and\n",
    "    that it returns a value of the right type, according to its annotations\n",
    "    \"\"\"\n",
    "    spec = inspect.getfullargspec(func)\n",
    "    annotations = spec.annotations\n",
    "    for name, annotation in annotations.items():\n",
    "        if not isinstance(annotation, type):\n",
    "            raise TypeError(\"The annotation for '%s' is not a type.\" % name)\n",
    "        error = \"Wrong type for %s: expected %s, got %s.\"\n",
    "        defaults = spec.defaults or ()\n",
    "        defaults_zip = zip(spec.args[-len(defaults):], defaults)\n",
    "        kwonlydefaults = spec.kwonlydefaults or {}\n",
    "        for name, value in chain(defaults_zip, kwonlydefaults.items()):\n",
    "            if name in annotations and not isinstance(value, annotations[name]):\n",
    "                raise TypeError(error % ('default value of %s' % name,\n",
    "                                        annotations[name].__name__,\n",
    "                                        type(value).__name__))\n",
    "    @functools.wraps(func)\n",
    "    def wrapper(*args, **kwargs):\n",
    "        # Populate a dictionary of explicit arguments passed positionally\n",
    "        explicit_args = dict(zip(spec.args, args))\n",
    "        keyword_args = kwargs.copy()\n",
    "        # Add all explicit arguments passed by keyword\n",
    "        for name in chain(spec.args, spec.kwonlyargs):\n",
    "            if name in kwargs:\n",
    "                explicit_args[name] = keyword_args.pop(name)\n",
    "        # Deal with explicit arguments\n",
    "        for name, arg in explicit_args.items():\n",
    "            if name in annotations and not isinstance(arg, annotations[name]):\n",
    "                raise TypeError(error % (name,\n",
    "                                        annotations[name].__name__,\n",
    "                                        type(arg).__name__))\n",
    "        # Deal with variable positional arguments\n",
    "        if spec.varargs and spec.varargs in annotations:\n",
    "            annotation = annotations[spec.varargs]\n",
    "            for i, arg in enumerate(args[len(spec.args):]):\n",
    "                if not isinstance(arg, annotation):\n",
    "                    raise TypeError(error % ('variable argument %s' % (i + 1),\n",
    "                                            annotation.__name__,\n",
    "                                            type(arg).__name__))\n",
    "        # Deal with variable keyword arguments\n",
    "        if spec.varkw and spec.varkw in annotations:\n",
    "            annotation = annotations[spec.varkw]\n",
    "            for name, arg in keyword_args.items():\n",
    "                if not isinstance(arg, annotation):\n",
    "                    raise TypeError(error % (name,\n",
    "                                            annotation.__name__,\n",
    "                                            type(arg).__name__))\n",
    "        r = func(*args, **kwargs)\n",
    "        if 'return' in annotations and not isinstance(r, annotations['return']):\n",
    "            raise TypeError(error % ('the return value',\n",
    "                                    annotations['return'].__name__,\n",
    "                                    type(r).__name__))\n",
    "        return r\n",
    "    return wrapper"
   ]
  },
  {
   "cell_type": "code",
   "execution_count": 44,
   "id": "58970706-7209-4555-b605-83903418af0a",
   "metadata": {},
   "outputs": [
    {
     "ename": "TypeError",
     "evalue": "Wrong type for prefix: expected str, got int.",
     "output_type": "error",
     "traceback": [
      "\u001b[1;31m---------------------------------------------------------------------------\u001b[0m",
      "\u001b[1;31mTypeError\u001b[0m                                 Traceback (most recent call last)",
      "\u001b[1;32m~\\AppData\\Local\\Temp/ipykernel_47284/344791667.py\u001b[0m in \u001b[0;36m<module>\u001b[1;34m\u001b[0m\n\u001b[0;32m      7\u001b[0m \u001b[0maa\u001b[0m \u001b[1;33m=\u001b[0m \u001b[1;33m[\u001b[0m\u001b[1;33m]\u001b[0m\u001b[1;33m\u001b[0m\u001b[1;33m\u001b[0m\u001b[0m\n\u001b[0;32m      8\u001b[0m \u001b[1;33m\u001b[0m\u001b[0m\n\u001b[1;32m----> 9\u001b[1;33m \u001b[0maa\u001b[0m \u001b[1;33m=\u001b[0m \u001b[0mprepend_rows\u001b[0m\u001b[1;33m(\u001b[0m\u001b[0mrows\u001b[0m\u001b[1;33m=\u001b[0m\u001b[1;33m[\u001b[0m\u001b[1;34m'112'\u001b[0m\u001b[1;33m,\u001b[0m \u001b[1;34m'tre'\u001b[0m\u001b[1;33m]\u001b[0m\u001b[1;33m,\u001b[0m \u001b[0mprefix\u001b[0m \u001b[1;33m=\u001b[0m \u001b[1;36m123\u001b[0m\u001b[1;33m)\u001b[0m\u001b[1;33m\u001b[0m\u001b[1;33m\u001b[0m\u001b[0m\n\u001b[0m",
      "\u001b[1;32m~\\AppData\\Local\\Temp/ipykernel_47284/3479065036.py\u001b[0m in \u001b[0;36mwrapper\u001b[1;34m(*args, **kwargs)\u001b[0m\n\u001b[0;32m     34\u001b[0m         \u001b[1;32mfor\u001b[0m \u001b[0mname\u001b[0m\u001b[1;33m,\u001b[0m \u001b[0marg\u001b[0m \u001b[1;32min\u001b[0m \u001b[0mexplicit_args\u001b[0m\u001b[1;33m.\u001b[0m\u001b[0mitems\u001b[0m\u001b[1;33m(\u001b[0m\u001b[1;33m)\u001b[0m\u001b[1;33m:\u001b[0m\u001b[1;33m\u001b[0m\u001b[1;33m\u001b[0m\u001b[0m\n\u001b[0;32m     35\u001b[0m             \u001b[1;32mif\u001b[0m \u001b[0mname\u001b[0m \u001b[1;32min\u001b[0m \u001b[0mannotations\u001b[0m \u001b[1;32mand\u001b[0m \u001b[1;32mnot\u001b[0m \u001b[0misinstance\u001b[0m\u001b[1;33m(\u001b[0m\u001b[0marg\u001b[0m\u001b[1;33m,\u001b[0m \u001b[0mannotations\u001b[0m\u001b[1;33m[\u001b[0m\u001b[0mname\u001b[0m\u001b[1;33m]\u001b[0m\u001b[1;33m)\u001b[0m\u001b[1;33m:\u001b[0m\u001b[1;33m\u001b[0m\u001b[1;33m\u001b[0m\u001b[0m\n\u001b[1;32m---> 36\u001b[1;33m                 raise TypeError(error % (name,\n\u001b[0m\u001b[0;32m     37\u001b[0m                                         \u001b[0mannotations\u001b[0m\u001b[1;33m[\u001b[0m\u001b[0mname\u001b[0m\u001b[1;33m]\u001b[0m\u001b[1;33m.\u001b[0m\u001b[0m__name__\u001b[0m\u001b[1;33m,\u001b[0m\u001b[1;33m\u001b[0m\u001b[1;33m\u001b[0m\u001b[0m\n\u001b[0;32m     38\u001b[0m                                         type(arg).__name__))\n",
      "\u001b[1;31mTypeError\u001b[0m: Wrong type for prefix: expected str, got int."
     ]
    }
   ],
   "source": [
    "# przykładowe wywołanie które pownny wskazać błędy w wywołaniu obu funkcji\n",
    "\n",
    "@typesafe\n",
    "def prepend_rows(rows:list, prefix:str) -> list:\n",
    "    return [prefix + row for row in rows]\n",
    "\n",
    "\n",
    "aa = prepend_rows(rows=['112', 'tre'], prefix = 123)\n"
   ]
  },
  {
   "cell_type": "code",
   "execution_count": 47,
   "id": "db358d6a-96e8-4911-8b9b-c3d9057c6bfe",
   "metadata": {},
   "outputs": [
    {
     "ename": "TypeError",
     "evalue": "Wrong type for the return value: expected list, got int.",
     "output_type": "error",
     "traceback": [
      "\u001b[1;31m---------------------------------------------------------------------------\u001b[0m",
      "\u001b[1;31mTypeError\u001b[0m                                 Traceback (most recent call last)",
      "\u001b[1;32m~\\AppData\\Local\\Temp/ipykernel_47284/2354814173.py\u001b[0m in \u001b[0;36m<module>\u001b[1;34m\u001b[0m\n\u001b[0;32m      3\u001b[0m     \u001b[1;32mreturn\u001b[0m \u001b[1;36m1\u001b[0m\u001b[1;33m\u001b[0m\u001b[1;33m\u001b[0m\u001b[0m\n\u001b[0;32m      4\u001b[0m \u001b[1;33m\u001b[0m\u001b[0m\n\u001b[1;32m----> 5\u001b[1;33m \u001b[0mprepend_rows\u001b[0m\u001b[1;33m(\u001b[0m\u001b[0mrows\u001b[0m\u001b[1;33m=\u001b[0m\u001b[1;33m[\u001b[0m\u001b[1;34m'112'\u001b[0m\u001b[1;33m,\u001b[0m \u001b[1;34m'tre'\u001b[0m\u001b[1;33m]\u001b[0m\u001b[1;33m,\u001b[0m \u001b[0mprefix\u001b[0m \u001b[1;33m=\u001b[0m \u001b[1;34m'123'\u001b[0m\u001b[1;33m)\u001b[0m\u001b[1;33m\u001b[0m\u001b[1;33m\u001b[0m\u001b[0m\n\u001b[0m",
      "\u001b[1;32m~\\AppData\\Local\\Temp/ipykernel_47284/3479065036.py\u001b[0m in \u001b[0;36mwrapper\u001b[1;34m(*args, **kwargs)\u001b[0m\n\u001b[0;32m     55\u001b[0m         \u001b[0mr\u001b[0m \u001b[1;33m=\u001b[0m \u001b[0mfunc\u001b[0m\u001b[1;33m(\u001b[0m\u001b[1;33m*\u001b[0m\u001b[0margs\u001b[0m\u001b[1;33m,\u001b[0m \u001b[1;33m**\u001b[0m\u001b[0mkwargs\u001b[0m\u001b[1;33m)\u001b[0m\u001b[1;33m\u001b[0m\u001b[1;33m\u001b[0m\u001b[0m\n\u001b[0;32m     56\u001b[0m         \u001b[1;32mif\u001b[0m \u001b[1;34m'return'\u001b[0m \u001b[1;32min\u001b[0m \u001b[0mannotations\u001b[0m \u001b[1;32mand\u001b[0m \u001b[1;32mnot\u001b[0m \u001b[0misinstance\u001b[0m\u001b[1;33m(\u001b[0m\u001b[0mr\u001b[0m\u001b[1;33m,\u001b[0m \u001b[0mannotations\u001b[0m\u001b[1;33m[\u001b[0m\u001b[1;34m'return'\u001b[0m\u001b[1;33m]\u001b[0m\u001b[1;33m)\u001b[0m\u001b[1;33m:\u001b[0m\u001b[1;33m\u001b[0m\u001b[1;33m\u001b[0m\u001b[0m\n\u001b[1;32m---> 57\u001b[1;33m             raise TypeError(error % ('the return value',\n\u001b[0m\u001b[0;32m     58\u001b[0m                                     \u001b[0mannotations\u001b[0m\u001b[1;33m[\u001b[0m\u001b[1;34m'return'\u001b[0m\u001b[1;33m]\u001b[0m\u001b[1;33m.\u001b[0m\u001b[0m__name__\u001b[0m\u001b[1;33m,\u001b[0m\u001b[1;33m\u001b[0m\u001b[1;33m\u001b[0m\u001b[0m\n\u001b[0;32m     59\u001b[0m                                     type(r).__name__))\n",
      "\u001b[1;31mTypeError\u001b[0m: Wrong type for the return value: expected list, got int."
     ]
    }
   ],
   "source": [
    "@typesafe\n",
    "def prepend_rows(rows:list, prefix:str) -> list:\n",
    "    return 1\n",
    "\n",
    "prepend_rows(rows=['112', 'tre'], prefix = '123')"
   ]
  },
  {
   "cell_type": "code",
   "execution_count": null,
   "id": "3a124e45-7a39-4ce8-a118-a3d89e77926e",
   "metadata": {},
   "outputs": [],
   "source": []
  }
 ],
 "metadata": {
  "kernelspec": {
   "display_name": "Python 3 (ipykernel)",
   "language": "python",
   "name": "python3"
  },
  "language_info": {
   "codemirror_mode": {
    "name": "ipython",
    "version": 3
   },
   "file_extension": ".py",
   "mimetype": "text/x-python",
   "name": "python",
   "nbconvert_exporter": "python",
   "pygments_lexer": "ipython3",
   "version": "3.9.7"
  }
 },
 "nbformat": 4,
 "nbformat_minor": 5
}
