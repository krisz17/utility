{
 "cells": [
  {
   "attachments": {},
   "cell_type": "markdown",
   "id": "8fbeb424",
   "metadata": {},
   "source": [
    "### Dekorator do wyznaczania czasu trwania wywołania funkcji\n",
    "\n",
    "https://towardsdatascience.com/12-python-decorators-to-take-your-code-to-the-next-level-a910a1ab3e99 \n",
    "\n",
    "https://towardsdatascience.com/10-fabulous-python-decorators-ab674a732871 \n",
    "\n",
    "https://towardsdatascience.com/9-reasons-why-you-should-start-using-python-dataclasses-98271adadc66\n"
   ]
  },
  {
   "cell_type": "code",
   "execution_count": 14,
   "id": "4647b1b1-a7dc-4d68-95a8-7d8ad8ebf9a6",
   "metadata": {},
   "outputs": [],
   "source": [
    "# funkcja do \n",
    "\n",
    "from functools import wraps\n",
    "import time \n",
    "\n",
    "def timefn(fn):\n",
    "    \"\"\"Pomiar czasu wywołania funkcji do momentu zwrócenia przez nią wartości albo błędu\"\"\"\n",
    "    @wraps(fn)\n",
    "    def measure_time(*args, **kwargs):\n",
    "        t1 = time.time()\n",
    "        result = fn(*args, **kwargs)\n",
    "        t2 = time.time()\n",
    "        print (\"@timefn: \" + fn.__name__ + \" took \" + str(t2 - t1) + \" seconds\")\n",
    "        return result\n",
    "    return measure_time"
   ]
  },
  {
   "cell_type": "code",
   "execution_count": 15,
   "id": "42457b41-7d8d-41da-8b07-8d908789c877",
   "metadata": {},
   "outputs": [
    {
     "name": "stdout",
     "output_type": "stream",
     "text": [
      "@timefn: losowa took 0.5043728351593018 seconds\n"
     ]
    }
   ],
   "source": [
    "import random\n",
    "\n",
    "if __name__ == \"__main__\":\n",
    "    @timefn\n",
    "    def losowa(x):\n",
    "        \"\"\"Funkcja do losowania liczby zadaną liczbę razy\"\"\"\n",
    "        for _ in range(x):\n",
    "            a = random.random()\n",
    "        return \n",
    "\n",
    "    losowa(10000000)"
   ]
  },
  {
   "cell_type": "markdown",
   "id": "9d8f377f-0096-4307-8da9-56853b6bf58f",
   "metadata": {},
   "source": [
    "### Dekorator dodający do funkci opcję Cashe, jeżeli nastąpi wywołanie dla tych samych argumentów to zamiast wykonać pełen kod zczytuje wartość z casha \n",
    "Dekorator może oczywiście byc podrasowany i pamięć będzie składana w pliku trwałym"
   ]
  },
  {
   "cell_type": "code",
   "execution_count": 23,
   "id": "e2b66561-93de-4266-81bd-0575e76de8e2",
   "metadata": {},
   "outputs": [],
   "source": [
    "import functools\n",
    "def memoize(func):\n",
    "    \"\"\"\n",
    "    Zapamiętuję wynik funkcji przez co nie musi byc ponownie \n",
    "    przeliczana, te same argumenty dadzą ten sam wynik.\n",
    "    \"\"\"\n",
    "    cache = {}\n",
    "    @functools.wraps(func)\n",
    "    def wrapper(*args):\n",
    "        if args in cache:\n",
    "            return cache[args]\n",
    "        # polecenie print jedynie na potrzeby demonstracji\n",
    "        # Należy skasować przed standardowym wdrożeniem na produkcję\n",
    "        print('Calling %s()' % func.__name__)\n",
    "        result = func(*args)\n",
    "        cache[args] = result\n",
    "        return result\n",
    "    return wrapper"
   ]
  },
  {
   "cell_type": "code",
   "execution_count": 26,
   "id": "78e26893-b6f1-49a6-90d8-114829cdfe2e",
   "metadata": {},
   "outputs": [
    {
     "name": "stdout",
     "output_type": "stream",
     "text": [
      "Calling silnia()\n",
      "Calling silnia()\n",
      "Calling silnia()\n",
      "Calling silnia()\n",
      "Calling silnia()\n",
      "120\n",
      "a za drugim razem mamy już tylko:\n",
      "Calling silnia()\n",
      "720\n"
     ]
    }
   ],
   "source": [
    "if __name__ == \"__main__\":\n",
    "    @memoize\n",
    "    def silnia(n):\n",
    "        if n==1:\n",
    "            return 1\n",
    "        return n*silnia(n-1)\n",
    "    \n",
    "    print(silnia(5))\n",
    "    print(\"a za drugim razem mamy już tylko:\")\n",
    "    print(silnia(6)) \n",
    "    "
   ]
  },
  {
   "cell_type": "code",
   "execution_count": 27,
   "id": "0472d1c5",
   "metadata": {},
   "outputs": [
    {
     "name": "stdout",
     "output_type": "stream",
     "text": [
      "2432902008176640000\n",
      "2432902008176640000\n",
      "2.27 µs ± 91 ns per loop (mean ± std. dev. of 7 runs, 1,000,000 loops each)\n"
     ]
    }
   ],
   "source": [
    "%%timeit\n",
    "print(silnia_inna(20))"
   ]
  },
  {
   "cell_type": "markdown",
   "id": "77575ad5-7942-437a-95c8-9196bf2eb46d",
   "metadata": {},
   "source": [
    "### Sprawdzanie poprawności typów argumentów funkcji \n",
    "Jeżeli zależy nam aby argumenty jak i wartość zwracana przez funkcję był danego typu możemy zastosować następujący dekorator "
   ]
  },
  {
   "cell_type": "code",
   "execution_count": 42,
   "id": "699d19a1-29d9-4c05-adfa-4aec0afa35e3",
   "metadata": {},
   "outputs": [],
   "source": [
    "import inspect\n",
    "import functools\n",
    "from itertools import chain\n",
    "\n",
    "def typesafe(func):\n",
    "    \"\"\"\n",
    "    Verify that the function is called with the right argument types and\n",
    "    that it returns a value of the right type, according to its annotations\n",
    "    \"\"\"\n",
    "    spec = inspect.getfullargspec(func)\n",
    "    annotations = spec.annotations\n",
    "    for name, annotation in annotations.items():\n",
    "        if not isinstance(annotation, type):\n",
    "            raise TypeError(\"The annotation for '%s' is not a type.\" % name)\n",
    "        error = \"Wrong type for %s: expected %s, got %s.\"\n",
    "        defaults = spec.defaults or ()\n",
    "        defaults_zip = zip(spec.args[-len(defaults):], defaults)\n",
    "        kwonlydefaults = spec.kwonlydefaults or {}\n",
    "        for name, value in chain(defaults_zip, kwonlydefaults.items()):\n",
    "            if name in annotations and not isinstance(value, annotations[name]):\n",
    "                raise TypeError(error % ('default value of %s' % name,\n",
    "                                        annotations[name].__name__,\n",
    "                                        type(value).__name__))\n",
    "    @functools.wraps(func)\n",
    "    def wrapper(*args, **kwargs):\n",
    "        # Populate a dictionary of explicit arguments passed positionally\n",
    "        explicit_args = dict(zip(spec.args, args))\n",
    "        keyword_args = kwargs.copy()\n",
    "        # Add all explicit arguments passed by keyword\n",
    "        for name in chain(spec.args, spec.kwonlyargs):\n",
    "            if name in kwargs:\n",
    "                explicit_args[name] = keyword_args.pop(name)\n",
    "        # Deal with explicit arguments\n",
    "        for name, arg in explicit_args.items():\n",
    "            if name in annotations and not isinstance(arg, annotations[name]):\n",
    "                raise TypeError(error % (name,\n",
    "                                        annotations[name].__name__,\n",
    "                                        type(arg).__name__))\n",
    "        # Deal with variable positional arguments\n",
    "        if spec.varargs and spec.varargs in annotations:\n",
    "            annotation = annotations[spec.varargs]\n",
    "            for i, arg in enumerate(args[len(spec.args):]):\n",
    "                if not isinstance(arg, annotation):\n",
    "                    raise TypeError(error % ('variable argument %s' % (i + 1),\n",
    "                                            annotation.__name__,\n",
    "                                            type(arg).__name__))\n",
    "        # Deal with variable keyword arguments\n",
    "        if spec.varkw and spec.varkw in annotations:\n",
    "            annotation = annotations[spec.varkw]\n",
    "            for name, arg in keyword_args.items():\n",
    "                if not isinstance(arg, annotation):\n",
    "                    raise TypeError(error % (name,\n",
    "                                            annotation.__name__,\n",
    "                                            type(arg).__name__))\n",
    "        r = func(*args, **kwargs)\n",
    "        if 'return' in annotations and not isinstance(r, annotations['return']):\n",
    "            raise TypeError(error % ('the return value',\n",
    "                                    annotations['return'].__name__,\n",
    "                                    type(r).__name__))\n",
    "        return r\n",
    "    return wrapper"
   ]
  },
  {
   "cell_type": "code",
   "execution_count": 44,
   "id": "58970706-7209-4555-b605-83903418af0a",
   "metadata": {},
   "outputs": [
    {
     "ename": "TypeError",
     "evalue": "Wrong type for prefix: expected str, got int.",
     "output_type": "error",
     "traceback": [
      "\u001b[1;31m---------------------------------------------------------------------------\u001b[0m",
      "\u001b[1;31mTypeError\u001b[0m                                 Traceback (most recent call last)",
      "\u001b[1;32m~\\AppData\\Local\\Temp/ipykernel_47284/344791667.py\u001b[0m in \u001b[0;36m<module>\u001b[1;34m\u001b[0m\n\u001b[0;32m      7\u001b[0m \u001b[0maa\u001b[0m \u001b[1;33m=\u001b[0m \u001b[1;33m[\u001b[0m\u001b[1;33m]\u001b[0m\u001b[1;33m\u001b[0m\u001b[1;33m\u001b[0m\u001b[0m\n\u001b[0;32m      8\u001b[0m \u001b[1;33m\u001b[0m\u001b[0m\n\u001b[1;32m----> 9\u001b[1;33m \u001b[0maa\u001b[0m \u001b[1;33m=\u001b[0m \u001b[0mprepend_rows\u001b[0m\u001b[1;33m(\u001b[0m\u001b[0mrows\u001b[0m\u001b[1;33m=\u001b[0m\u001b[1;33m[\u001b[0m\u001b[1;34m'112'\u001b[0m\u001b[1;33m,\u001b[0m \u001b[1;34m'tre'\u001b[0m\u001b[1;33m]\u001b[0m\u001b[1;33m,\u001b[0m \u001b[0mprefix\u001b[0m \u001b[1;33m=\u001b[0m \u001b[1;36m123\u001b[0m\u001b[1;33m)\u001b[0m\u001b[1;33m\u001b[0m\u001b[1;33m\u001b[0m\u001b[0m\n\u001b[0m",
      "\u001b[1;32m~\\AppData\\Local\\Temp/ipykernel_47284/3479065036.py\u001b[0m in \u001b[0;36mwrapper\u001b[1;34m(*args, **kwargs)\u001b[0m\n\u001b[0;32m     34\u001b[0m         \u001b[1;32mfor\u001b[0m \u001b[0mname\u001b[0m\u001b[1;33m,\u001b[0m \u001b[0marg\u001b[0m \u001b[1;32min\u001b[0m \u001b[0mexplicit_args\u001b[0m\u001b[1;33m.\u001b[0m\u001b[0mitems\u001b[0m\u001b[1;33m(\u001b[0m\u001b[1;33m)\u001b[0m\u001b[1;33m:\u001b[0m\u001b[1;33m\u001b[0m\u001b[1;33m\u001b[0m\u001b[0m\n\u001b[0;32m     35\u001b[0m             \u001b[1;32mif\u001b[0m \u001b[0mname\u001b[0m \u001b[1;32min\u001b[0m \u001b[0mannotations\u001b[0m \u001b[1;32mand\u001b[0m \u001b[1;32mnot\u001b[0m \u001b[0misinstance\u001b[0m\u001b[1;33m(\u001b[0m\u001b[0marg\u001b[0m\u001b[1;33m,\u001b[0m \u001b[0mannotations\u001b[0m\u001b[1;33m[\u001b[0m\u001b[0mname\u001b[0m\u001b[1;33m]\u001b[0m\u001b[1;33m)\u001b[0m\u001b[1;33m:\u001b[0m\u001b[1;33m\u001b[0m\u001b[1;33m\u001b[0m\u001b[0m\n\u001b[1;32m---> 36\u001b[1;33m                 raise TypeError(error % (name,\n\u001b[0m\u001b[0;32m     37\u001b[0m                                         \u001b[0mannotations\u001b[0m\u001b[1;33m[\u001b[0m\u001b[0mname\u001b[0m\u001b[1;33m]\u001b[0m\u001b[1;33m.\u001b[0m\u001b[0m__name__\u001b[0m\u001b[1;33m,\u001b[0m\u001b[1;33m\u001b[0m\u001b[1;33m\u001b[0m\u001b[0m\n\u001b[0;32m     38\u001b[0m                                         type(arg).__name__))\n",
      "\u001b[1;31mTypeError\u001b[0m: Wrong type for prefix: expected str, got int."
     ]
    }
   ],
   "source": [
    "# przykładowe wywołanie które pownny wskazać błędy w wywołaniu obu funkcji\n",
    "\n",
    "@typesafe\n",
    "def prepend_rows(rows:list, prefix:str) -> list:\n",
    "    return [prefix + row for row in rows]\n",
    "\n",
    "\n",
    "aa = prepend_rows(rows=['112', 'tre'], prefix = 123)\n"
   ]
  },
  {
   "cell_type": "code",
   "execution_count": 47,
   "id": "db358d6a-96e8-4911-8b9b-c3d9057c6bfe",
   "metadata": {},
   "outputs": [
    {
     "ename": "TypeError",
     "evalue": "Wrong type for the return value: expected list, got int.",
     "output_type": "error",
     "traceback": [
      "\u001b[1;31m---------------------------------------------------------------------------\u001b[0m",
      "\u001b[1;31mTypeError\u001b[0m                                 Traceback (most recent call last)",
      "\u001b[1;32m~\\AppData\\Local\\Temp/ipykernel_47284/2354814173.py\u001b[0m in \u001b[0;36m<module>\u001b[1;34m\u001b[0m\n\u001b[0;32m      3\u001b[0m     \u001b[1;32mreturn\u001b[0m \u001b[1;36m1\u001b[0m\u001b[1;33m\u001b[0m\u001b[1;33m\u001b[0m\u001b[0m\n\u001b[0;32m      4\u001b[0m \u001b[1;33m\u001b[0m\u001b[0m\n\u001b[1;32m----> 5\u001b[1;33m \u001b[0mprepend_rows\u001b[0m\u001b[1;33m(\u001b[0m\u001b[0mrows\u001b[0m\u001b[1;33m=\u001b[0m\u001b[1;33m[\u001b[0m\u001b[1;34m'112'\u001b[0m\u001b[1;33m,\u001b[0m \u001b[1;34m'tre'\u001b[0m\u001b[1;33m]\u001b[0m\u001b[1;33m,\u001b[0m \u001b[0mprefix\u001b[0m \u001b[1;33m=\u001b[0m \u001b[1;34m'123'\u001b[0m\u001b[1;33m)\u001b[0m\u001b[1;33m\u001b[0m\u001b[1;33m\u001b[0m\u001b[0m\n\u001b[0m",
      "\u001b[1;32m~\\AppData\\Local\\Temp/ipykernel_47284/3479065036.py\u001b[0m in \u001b[0;36mwrapper\u001b[1;34m(*args, **kwargs)\u001b[0m\n\u001b[0;32m     55\u001b[0m         \u001b[0mr\u001b[0m \u001b[1;33m=\u001b[0m \u001b[0mfunc\u001b[0m\u001b[1;33m(\u001b[0m\u001b[1;33m*\u001b[0m\u001b[0margs\u001b[0m\u001b[1;33m,\u001b[0m \u001b[1;33m**\u001b[0m\u001b[0mkwargs\u001b[0m\u001b[1;33m)\u001b[0m\u001b[1;33m\u001b[0m\u001b[1;33m\u001b[0m\u001b[0m\n\u001b[0;32m     56\u001b[0m         \u001b[1;32mif\u001b[0m \u001b[1;34m'return'\u001b[0m \u001b[1;32min\u001b[0m \u001b[0mannotations\u001b[0m \u001b[1;32mand\u001b[0m \u001b[1;32mnot\u001b[0m \u001b[0misinstance\u001b[0m\u001b[1;33m(\u001b[0m\u001b[0mr\u001b[0m\u001b[1;33m,\u001b[0m \u001b[0mannotations\u001b[0m\u001b[1;33m[\u001b[0m\u001b[1;34m'return'\u001b[0m\u001b[1;33m]\u001b[0m\u001b[1;33m)\u001b[0m\u001b[1;33m:\u001b[0m\u001b[1;33m\u001b[0m\u001b[1;33m\u001b[0m\u001b[0m\n\u001b[1;32m---> 57\u001b[1;33m             raise TypeError(error % ('the return value',\n\u001b[0m\u001b[0;32m     58\u001b[0m                                     \u001b[0mannotations\u001b[0m\u001b[1;33m[\u001b[0m\u001b[1;34m'return'\u001b[0m\u001b[1;33m]\u001b[0m\u001b[1;33m.\u001b[0m\u001b[0m__name__\u001b[0m\u001b[1;33m,\u001b[0m\u001b[1;33m\u001b[0m\u001b[1;33m\u001b[0m\u001b[0m\n\u001b[0;32m     59\u001b[0m                                     type(r).__name__))\n",
      "\u001b[1;31mTypeError\u001b[0m: Wrong type for the return value: expected list, got int."
     ]
    }
   ],
   "source": [
    "@typesafe\n",
    "def prepend_rows(rows:list, prefix:str) -> list:\n",
    "    return 1\n",
    "\n",
    "prepend_rows(rows=['112', 'tre'], prefix = '123')"
   ]
  },
  {
   "cell_type": "code",
   "execution_count": 13,
   "id": "3a124e45-7a39-4ce8-a118-a3d89e77926e",
   "metadata": {},
   "outputs": [
    {
     "name": "stdout",
     "output_type": "stream",
     "text": [
      "Program wystartował o  2023-03-11 23:39:28\n"
     ]
    }
   ],
   "source": [
    "from datetime import datetime\n",
    "\n",
    "\n",
    "\n",
    "print(\"Program wystartował o \", datetime.now().strftime(\"%Y-%m-%d %H:%M:%S\"))"
   ]
  },
  {
   "cell_type": "code",
   "execution_count": 21,
   "id": "6d3fcdc8",
   "metadata": {},
   "outputs": [
    {
     "name": "stdout",
     "output_type": "stream",
     "text": [
      "measure_time\n",
      "Pomiar czasu trwania funkcji\n"
     ]
    }
   ],
   "source": [
    "from functools import wraps\n",
    "import time \n",
    "\n",
    "def timefn(fn):\n",
    "    \"\"\"Pomiar czasu wywołania funkcji do momentu zwrócenia przez nią wartości albo błędu\"\"\"\n",
    "    def measure_time(*args, **kwargs):\n",
    "        \"\"\"Pomiar czasu trwania funkcji\"\"\"\n",
    "        t1 = time.time()\n",
    "        result = fn(*args, **kwargs)\n",
    "        t2 = time.time()\n",
    "        print (\"@timefn: \" + fn.__name__ + \" took \" + str(t2 - t1) + \" seconds\")\n",
    "        return result\n",
    "    return measure_time\n",
    "\n",
    "@timefn\n",
    "def losowa(x):\n",
    "    \"\"\"Funkcja do losowania liczby zadaną liczbę razy\"\"\"\n",
    "    for _ in range(x):\n",
    "        a = random.random()\n",
    "    return \n",
    "\n",
    "\n",
    "print(losowa.__name__)\n",
    "print(losowa.__doc__)"
   ]
  },
  {
   "cell_type": "code",
   "execution_count": 4,
   "id": "d0f85527",
   "metadata": {},
   "outputs": [
    {
     "name": "stdout",
     "output_type": "stream",
     "text": [
      "random_value raised TypeError. Retrying...\n",
      "random_value raised TypeError. Retrying...\n",
      "random_value raised TypeError. Retrying...\n"
     ]
    },
    {
     "ename": "UnboundLocalError",
     "evalue": "local variable 'e' referenced before assignment",
     "output_type": "error",
     "traceback": [
      "\u001b[1;31m---------------------------------------------------------------------------\u001b[0m",
      "\u001b[1;31mUnboundLocalError\u001b[0m                         Traceback (most recent call last)",
      "Cell \u001b[1;32mIn[4], line 30\u001b[0m\n\u001b[0;32m     27\u001b[0m     value \u001b[39m=\u001b[39m random\u001b[39m.\u001b[39mrandint(a)\n\u001b[0;32m     28\u001b[0m     \u001b[39mreturn\u001b[39;00m value\n\u001b[1;32m---> 30\u001b[0m random_value()\n",
      "Cell \u001b[1;32mIn[4], line 20\u001b[0m, in \u001b[0;36mretry.<locals>.decorate.<locals>.wrapper\u001b[1;34m(*args, **kwargs)\u001b[0m\n\u001b[0;32m     18\u001b[0m             time\u001b[39m.\u001b[39msleep(sleep_time)\n\u001b[0;32m     19\u001b[0m \u001b[39m# Raise the exception if the function was not successful after the specified number of retries\u001b[39;00m\n\u001b[1;32m---> 20\u001b[0m \u001b[39mraise\u001b[39;00m e\n",
      "\u001b[1;31mUnboundLocalError\u001b[0m: local variable 'e' referenced before assignment"
     ]
    }
   ],
   "source": [
    "import random\n",
    "import time\n",
    "from functools import wraps\n",
    "\n",
    "def retry(num_retries, exception_to_check, sleep_time=0):\n",
    "    \"\"\"\n",
    "    Dekorator ponownie wywołuje funkcję jeżeli poprzednie wywołanie zwróciło wyjątek.\n",
    "    \"\"\"\n",
    "    def decorate(func):\n",
    "        @wraps(func)\n",
    "        def wrapper(*args, **kwargs):\n",
    "            for i in range(1, num_retries+1):\n",
    "                try:\n",
    "                    return func(*args, **kwargs)\n",
    "                except exception_to_check as e:\n",
    "                    print(f\"{func.__name__} raised {e.__class__.__name__}. Retrying...\")\n",
    "                    if i < num_retries:\n",
    "                        time.sleep(sleep_time)\n",
    "            # Raise the exception if the function was not successful after the specified number of retries\n",
    "            raise e\n",
    "        return wrapper\n",
    "    return decorate\n",
    "\n",
    "if __name__ == \"__main__\":\n",
    "    @retry(num_retries=3, exception_to_check=TypeError, sleep_time=1)\n",
    "    def random_value(a):\n",
    "        value = random.randint(a)\n",
    "        return value\n",
    "    \n",
    "    random_value()"
   ]
  },
  {
   "cell_type": "code",
   "execution_count": 3,
   "id": "0cc52e12",
   "metadata": {},
   "outputs": [
    {
     "ename": "TypeError",
     "evalue": "randint() missing 2 required positional arguments: 'a' and 'b'",
     "output_type": "error",
     "traceback": [
      "\u001b[1;31m---------------------------------------------------------------------------\u001b[0m",
      "\u001b[1;31mTypeError\u001b[0m                                 Traceback (most recent call last)",
      "Cell \u001b[1;32mIn[3], line 2\u001b[0m\n\u001b[0;32m      1\u001b[0m \u001b[39mimport\u001b[39;00m \u001b[39mrandom\u001b[39;00m\n\u001b[1;32m----> 2\u001b[0m random\u001b[39m.\u001b[39;49mrandint()\n",
      "\u001b[1;31mTypeError\u001b[0m: randint() missing 2 required positional arguments: 'a' and 'b'"
     ]
    }
   ],
   "source": [
    "import random\n",
    "random.randint()"
   ]
  },
  {
   "cell_type": "code",
   "execution_count": 6,
   "id": "304c7e98",
   "metadata": {},
   "outputs": [
    {
     "ename": "TypeError",
     "evalue": "Wrong type for prefix: expected str, got int.",
     "output_type": "error",
     "traceback": [
      "\u001b[1;31m---------------------------------------------------------------------------\u001b[0m",
      "\u001b[1;31mTypeError\u001b[0m                                 Traceback (most recent call last)",
      "Cell \u001b[1;32mIn[6], line 69\u001b[0m\n\u001b[0;32m     65\u001b[0m \u001b[39m@typesafe\u001b[39m\n\u001b[0;32m     66\u001b[0m \u001b[39mdef\u001b[39;00m \u001b[39mprepend_rows\u001b[39m(rows:\u001b[39mlist\u001b[39m, prefix:\u001b[39mstr\u001b[39m) \u001b[39m-\u001b[39m\u001b[39m>\u001b[39m \u001b[39mlist\u001b[39m:\n\u001b[0;32m     67\u001b[0m     \u001b[39mreturn\u001b[39;00m [prefix \u001b[39m+\u001b[39m row \u001b[39mfor\u001b[39;00m row \u001b[39min\u001b[39;00m rows]\n\u001b[1;32m---> 69\u001b[0m aa \u001b[39m=\u001b[39m prepend_rows(rows\u001b[39m=\u001b[39;49m[\u001b[39m'\u001b[39;49m\u001b[39m112\u001b[39;49m\u001b[39m'\u001b[39;49m, \u001b[39m'\u001b[39;49m\u001b[39mtre\u001b[39;49m\u001b[39m'\u001b[39;49m], prefix \u001b[39m=\u001b[39;49m \u001b[39m123\u001b[39;49m) \n",
      "Cell \u001b[1;32mIn[6], line 36\u001b[0m, in \u001b[0;36mtypesafe.<locals>.wrapper\u001b[1;34m(*args, **kwargs)\u001b[0m\n\u001b[0;32m     34\u001b[0m \u001b[39mfor\u001b[39;00m name, arg \u001b[39min\u001b[39;00m explicit_args\u001b[39m.\u001b[39mitems():\n\u001b[0;32m     35\u001b[0m     \u001b[39mif\u001b[39;00m name \u001b[39min\u001b[39;00m annotations \u001b[39mand\u001b[39;00m \u001b[39mnot\u001b[39;00m \u001b[39misinstance\u001b[39m(arg, annotations[name]):\n\u001b[1;32m---> 36\u001b[0m         \u001b[39mraise\u001b[39;00m \u001b[39mTypeError\u001b[39;00m(error \u001b[39m%\u001b[39m (name,\n\u001b[0;32m     37\u001b[0m                                 annotations[name]\u001b[39m.\u001b[39m\u001b[39m__name__\u001b[39m,\n\u001b[0;32m     38\u001b[0m                                 \u001b[39mtype\u001b[39m(arg)\u001b[39m.\u001b[39m\u001b[39m__name__\u001b[39m))\n\u001b[0;32m     39\u001b[0m \u001b[39m# Deal with variable positional arguments\u001b[39;00m\n\u001b[0;32m     40\u001b[0m \u001b[39mif\u001b[39;00m spec\u001b[39m.\u001b[39mvarargs \u001b[39mand\u001b[39;00m spec\u001b[39m.\u001b[39mvarargs \u001b[39min\u001b[39;00m annotations:\n",
      "\u001b[1;31mTypeError\u001b[0m: Wrong type for prefix: expected str, got int."
     ]
    }
   ],
   "source": [
    "import inspect\n",
    "import functools\n",
    "from itertools import chain\n",
    "\n",
    "def typesafe(func):\n",
    "    \"\"\"\n",
    "    Verify that the function is called with the right argument types and\n",
    "    that it returns a value of the right type, according to its annotations\n",
    "    \"\"\"\n",
    "    spec = inspect.getfullargspec(func)\n",
    "    annotations = spec.annotations\n",
    "    for name, annotation in annotations.items():\n",
    "        if not isinstance(annotation, type):\n",
    "            raise TypeError(\"The annotation for '%s' is not a type.\" % name)\n",
    "        error = \"Wrong type for %s: expected %s, got %s.\"\n",
    "        defaults = spec.defaults or ()\n",
    "        defaults_zip = zip(spec.args[-len(defaults):], defaults)\n",
    "        kwonlydefaults = spec.kwonlydefaults or {}\n",
    "        for name, value in chain(defaults_zip, kwonlydefaults.items()):\n",
    "            if name in annotations and not isinstance(value, annotations[name]):\n",
    "                raise TypeError(error % ('default value of %s' % name,\n",
    "                                        annotations[name].__name__,\n",
    "                                        type(value).__name__))\n",
    "    @functools.wraps(func)\n",
    "    def wrapper(*args, **kwargs):\n",
    "        # Populate a dictionary of explicit arguments passed positionally\n",
    "        explicit_args = dict(zip(spec.args, args))\n",
    "        keyword_args = kwargs.copy()\n",
    "        # Add all explicit arguments passed by keyword\n",
    "        for name in chain(spec.args, spec.kwonlyargs):\n",
    "            if name in kwargs:\n",
    "                explicit_args[name] = keyword_args.pop(name)\n",
    "        # Deal with explicit arguments\n",
    "        for name, arg in explicit_args.items():\n",
    "            if name in annotations and not isinstance(arg, annotations[name]):\n",
    "                raise TypeError(error % (name,\n",
    "                                        annotations[name].__name__,\n",
    "                                        type(arg).__name__))\n",
    "        # Deal with variable positional arguments\n",
    "        if spec.varargs and spec.varargs in annotations:\n",
    "            annotation = annotations[spec.varargs]\n",
    "            for i, arg in enumerate(args[len(spec.args):]):\n",
    "                if not isinstance(arg, annotation):\n",
    "                    raise TypeError(error % ('variable argument %s' % (i + 1),\n",
    "                                            annotation.__name__,\n",
    "                                            type(arg).__name__))\n",
    "        # Deal with variable keyword arguments\n",
    "        if spec.varkw and spec.varkw in annotations:\n",
    "            annotation = annotations[spec.varkw]\n",
    "            for name, arg in keyword_args.items():\n",
    "                if not isinstance(arg, annotation):\n",
    "                    raise TypeError(error % (name,\n",
    "                                            annotation.__name__,\n",
    "                                            type(arg).__name__))\n",
    "        r = func(*args, **kwargs)\n",
    "        if 'return' in annotations and not isinstance(r, annotations['return']):\n",
    "            raise TypeError(error % ('the return value',\n",
    "                                    annotations['return'].__name__,\n",
    "                                    type(r).__name__))\n",
    "        return r\n",
    "    return wrapper\n",
    "\n",
    "# przykładowe wywołanie które pownny wskazać błędy w wywołaniu obu funkcji\n",
    "if __name__ == \"__main__\":\n",
    "    @typesafe\n",
    "    def prepend_rows(rows:list, prefix:str) -> list:\n",
    "        return [prefix + row for row in rows]\n",
    "\n",
    "    aa = prepend_rows(rows=['112', 'tre'], prefix = 123) \n"
   ]
  }
 ],
 "metadata": {
  "kernelspec": {
   "display_name": "Python 3 (ipykernel)",
   "language": "python",
   "name": "python3"
  },
  "language_info": {
   "codemirror_mode": {
    "name": "ipython",
    "version": 3
   },
   "file_extension": ".py",
   "mimetype": "text/x-python",
   "name": "python",
   "nbconvert_exporter": "python",
   "pygments_lexer": "ipython3",
   "version": "3.9.11"
  }
 },
 "nbformat": 4,
 "nbformat_minor": 5
}
